{
 "cells": [
  {
   "cell_type": "markdown",
   "metadata": {},
   "source": [
    "# Relationship Types\n",
    "\n",
    "* Determine if each table is related to another table by one-to-one, one-to-many, or many-to-many relationships using pandas"
   ]
  },
  {
   "cell_type": "code",
   "execution_count": 3,
   "metadata": {},
   "outputs": [
    {
     "data": {
      "text/html": [
       "<div>\n",
       "<style scoped>\n",
       "    .dataframe tbody tr th:only-of-type {\n",
       "        vertical-align: middle;\n",
       "    }\n",
       "\n",
       "    .dataframe tbody tr th {\n",
       "        vertical-align: top;\n",
       "    }\n",
       "\n",
       "    .dataframe thead th {\n",
       "        text-align: right;\n",
       "    }\n",
       "</style>\n",
       "<table border=\"1\" class=\"dataframe\">\n",
       "  <thead>\n",
       "    <tr style=\"text-align: right;\">\n",
       "      <th></th>\n",
       "      <th>dept_no</th>\n",
       "      <th>emp_no</th>\n",
       "      <th>from_date</th>\n",
       "      <th>to_date</th>\n",
       "    </tr>\n",
       "  </thead>\n",
       "  <tbody>\n",
       "    <tr>\n",
       "      <th>0</th>\n",
       "      <td>d001</td>\n",
       "      <td>110022</td>\n",
       "      <td>1985-01-01</td>\n",
       "      <td>1991-10-01</td>\n",
       "    </tr>\n",
       "    <tr>\n",
       "      <th>1</th>\n",
       "      <td>d001</td>\n",
       "      <td>110039</td>\n",
       "      <td>1991-10-01</td>\n",
       "      <td>9999-01-01</td>\n",
       "    </tr>\n",
       "    <tr>\n",
       "      <th>2</th>\n",
       "      <td>d002</td>\n",
       "      <td>110085</td>\n",
       "      <td>1985-01-01</td>\n",
       "      <td>1989-12-17</td>\n",
       "    </tr>\n",
       "    <tr>\n",
       "      <th>3</th>\n",
       "      <td>d002</td>\n",
       "      <td>110114</td>\n",
       "      <td>1989-12-17</td>\n",
       "      <td>9999-01-01</td>\n",
       "    </tr>\n",
       "    <tr>\n",
       "      <th>4</th>\n",
       "      <td>d003</td>\n",
       "      <td>110183</td>\n",
       "      <td>1985-01-01</td>\n",
       "      <td>1992-03-21</td>\n",
       "    </tr>\n",
       "  </tbody>\n",
       "</table>\n",
       "</div>"
      ],
      "text/plain": [
       "  dept_no  emp_no   from_date     to_date\n",
       "0    d001  110022  1985-01-01  1991-10-01\n",
       "1    d001  110039  1991-10-01  9999-01-01\n",
       "2    d002  110085  1985-01-01  1989-12-17\n",
       "3    d002  110114  1989-12-17  9999-01-01\n",
       "4    d003  110183  1985-01-01  1992-03-21"
      ]
     },
     "execution_count": 3,
     "metadata": {},
     "output_type": "execute_result"
    }
   ],
   "source": [
    "import pandas as pd\n",
    "\n",
    "dept_manager_df = pd.read_csv(\"../dept_manager.csv\")\n",
    "\n",
    "dept_manager_df.head()"
   ]
  },
  {
   "cell_type": "code",
   "execution_count": 14,
   "metadata": {},
   "outputs": [
    {
     "name": "stdout",
     "output_type": "stream",
     "text": [
      "4\n",
      "The 'dept_no' primary key in the 'departments' table has a one-to-many relationship with the 'dept_no' foreign key in the 'dept_manager' table\n",
      "1\n",
      "The 'emp_no' primary key in the 'employees' table has a one-to-one relationship with the 'emp_no' foreign key in the 'dept_manager' table\n"
     ]
    }
   ],
   "source": [
    "#determine the max number identical department numbers\n",
    "print(max(dept_manager_df[\"dept_no\"].value_counts()))\n",
    "\n",
    "print(\"The 'dept_no' primary key in the 'departments' table has \" +\n",
    "      \"a one-to-many relationship with the 'dept_no' foreign key in the 'dept_manager' table\")\n",
    "\n",
    "#determine the max number identical employee numbers\n",
    "print(max(dept_manager_df[\"emp_no\"].value_counts()))\n",
    "\n",
    "print(\"The 'emp_no' primary key in the 'employees' table has \" +\n",
    "      \"a one-to-one relationship with the 'emp_no' foreign key in the 'dept_manager' table\")"
   ]
  },
  {
   "cell_type": "markdown",
   "metadata": {},
   "source": [
    "## \"dept_emp\" Table Relationships"
   ]
  },
  {
   "cell_type": "code",
   "execution_count": 9,
   "metadata": {},
   "outputs": [
    {
     "data": {
      "text/html": [
       "<div>\n",
       "<style scoped>\n",
       "    .dataframe tbody tr th:only-of-type {\n",
       "        vertical-align: middle;\n",
       "    }\n",
       "\n",
       "    .dataframe tbody tr th {\n",
       "        vertical-align: top;\n",
       "    }\n",
       "\n",
       "    .dataframe thead th {\n",
       "        text-align: right;\n",
       "    }\n",
       "</style>\n",
       "<table border=\"1\" class=\"dataframe\">\n",
       "  <thead>\n",
       "    <tr style=\"text-align: right;\">\n",
       "      <th></th>\n",
       "      <th>emp_no</th>\n",
       "      <th>dept_no</th>\n",
       "      <th>from_date</th>\n",
       "      <th>to_date</th>\n",
       "    </tr>\n",
       "  </thead>\n",
       "  <tbody>\n",
       "    <tr>\n",
       "      <th>0</th>\n",
       "      <td>10001</td>\n",
       "      <td>d005</td>\n",
       "      <td>1986-06-26</td>\n",
       "      <td>9999-01-01</td>\n",
       "    </tr>\n",
       "    <tr>\n",
       "      <th>1</th>\n",
       "      <td>10002</td>\n",
       "      <td>d007</td>\n",
       "      <td>1996-08-03</td>\n",
       "      <td>9999-01-01</td>\n",
       "    </tr>\n",
       "    <tr>\n",
       "      <th>2</th>\n",
       "      <td>10003</td>\n",
       "      <td>d004</td>\n",
       "      <td>1995-12-03</td>\n",
       "      <td>9999-01-01</td>\n",
       "    </tr>\n",
       "    <tr>\n",
       "      <th>3</th>\n",
       "      <td>10004</td>\n",
       "      <td>d004</td>\n",
       "      <td>1986-12-01</td>\n",
       "      <td>9999-01-01</td>\n",
       "    </tr>\n",
       "    <tr>\n",
       "      <th>4</th>\n",
       "      <td>10005</td>\n",
       "      <td>d003</td>\n",
       "      <td>1989-09-12</td>\n",
       "      <td>9999-01-01</td>\n",
       "    </tr>\n",
       "  </tbody>\n",
       "</table>\n",
       "</div>"
      ],
      "text/plain": [
       "   emp_no dept_no   from_date     to_date\n",
       "0   10001    d005  1986-06-26  9999-01-01\n",
       "1   10002    d007  1996-08-03  9999-01-01\n",
       "2   10003    d004  1995-12-03  9999-01-01\n",
       "3   10004    d004  1986-12-01  9999-01-01\n",
       "4   10005    d003  1989-09-12  9999-01-01"
      ]
     },
     "execution_count": 9,
     "metadata": {},
     "output_type": "execute_result"
    }
   ],
   "source": [
    "dept_employee_df = pd.read_csv(\"../dept_emp.csv\")\n",
    "\n",
    "dept_employee_df.head()"
   ]
  },
  {
   "cell_type": "code",
   "execution_count": 47,
   "metadata": {},
   "outputs": [
    {
     "name": "stdout",
     "output_type": "stream",
     "text": [
      "85707\n",
      "The 'dept_no' primary key in the 'departments' table has a one-to-many relationship with the 'dept_no' foreign key in the 'dept_emp' table\n",
      "2\n",
      "The 'emp_no' primary key in the 'employees' table has a one-to-many relationship with the 'emp_no' foreign key in the 'dept_emp' table\n",
      "Are the department values different for each employee number? True\n",
      "So we can make a composite key from employee number and dept number for this table, since the combinations of 'emp_no' and 'dept_no' are unique\n"
     ]
    }
   ],
   "source": [
    "#determine the max number identical department numbers\n",
    "print(max(dept_employee_df[\"dept_no\"].value_counts()))\n",
    "\n",
    "print(\"The 'dept_no' primary key in the 'departments' table has \" +\n",
    "      \"a one-to-many relationship with the 'dept_no' foreign key in the 'dept_emp' table\")\n",
    "\n",
    "#determine the max number identical employee numbers\n",
    "print(max(dept_employee_df[\"emp_no\"].value_counts()))\n",
    "\n",
    "print(\"The 'emp_no' primary key in the 'employees' table has \" +\n",
    "      \"a one-to-many relationship with the 'emp_no' foreign key in the 'dept_emp' table\")\n",
    "\n",
    "#need a composite key for the PK - determine if dept_no's are unique for duplicate employees, or if from_date's are unique for \n",
    "#duplicate employees - guess is that from_date's are unique (move up in same department)\n",
    "duplicate_employees = dept_employee_df[\"emp_no\"].value_counts()\n",
    "duplicate_employees = duplicate_employees.loc[duplicate_employees > 1]\n",
    "duplicate_employees = duplicate_employees.index\n",
    "check_rows_df = dept_employee_df.loc[dept_employee_df[\"emp_no\"].isin(duplicate_employees), :]\n",
    "test_dept_unique = check_rows_df.groupby(\"emp_no\").apply(lambda x: len(set(x)) == 1)\n",
    "print(\"Are the department values different for each employee number? {}\".format(not any(test_dept_unique)))\n",
    "\n",
    "print(\"So we can make a composite key from employee number and dept number for this table, since the combinations of 'emp_no'\"+ \n",
    "      \" and 'dept_no' are unique\")"
   ]
  },
  {
   "cell_type": "markdown",
   "metadata": {},
   "source": [
    "## \"employees\" Table Relationships"
   ]
  },
  {
   "cell_type": "code",
   "execution_count": 20,
   "metadata": {},
   "outputs": [
    {
     "data": {
      "text/html": [
       "<div>\n",
       "<style scoped>\n",
       "    .dataframe tbody tr th:only-of-type {\n",
       "        vertical-align: middle;\n",
       "    }\n",
       "\n",
       "    .dataframe tbody tr th {\n",
       "        vertical-align: top;\n",
       "    }\n",
       "\n",
       "    .dataframe thead th {\n",
       "        text-align: right;\n",
       "    }\n",
       "</style>\n",
       "<table border=\"1\" class=\"dataframe\">\n",
       "  <thead>\n",
       "    <tr style=\"text-align: right;\">\n",
       "      <th></th>\n",
       "      <th>emp_no</th>\n",
       "      <th>birth_date</th>\n",
       "      <th>first_name</th>\n",
       "      <th>last_name</th>\n",
       "      <th>gender</th>\n",
       "      <th>hire_date</th>\n",
       "    </tr>\n",
       "  </thead>\n",
       "  <tbody>\n",
       "    <tr>\n",
       "      <th>0</th>\n",
       "      <td>10001</td>\n",
       "      <td>1953-09-02</td>\n",
       "      <td>Georgi</td>\n",
       "      <td>Facello</td>\n",
       "      <td>M</td>\n",
       "      <td>1986-06-26</td>\n",
       "    </tr>\n",
       "    <tr>\n",
       "      <th>1</th>\n",
       "      <td>10002</td>\n",
       "      <td>1964-06-02</td>\n",
       "      <td>Bezalel</td>\n",
       "      <td>Simmel</td>\n",
       "      <td>F</td>\n",
       "      <td>1985-11-21</td>\n",
       "    </tr>\n",
       "    <tr>\n",
       "      <th>2</th>\n",
       "      <td>10003</td>\n",
       "      <td>1959-12-03</td>\n",
       "      <td>Parto</td>\n",
       "      <td>Bamford</td>\n",
       "      <td>M</td>\n",
       "      <td>1986-08-28</td>\n",
       "    </tr>\n",
       "    <tr>\n",
       "      <th>3</th>\n",
       "      <td>10004</td>\n",
       "      <td>1954-05-01</td>\n",
       "      <td>Chirstian</td>\n",
       "      <td>Koblick</td>\n",
       "      <td>M</td>\n",
       "      <td>1986-12-01</td>\n",
       "    </tr>\n",
       "    <tr>\n",
       "      <th>4</th>\n",
       "      <td>10005</td>\n",
       "      <td>1955-01-21</td>\n",
       "      <td>Kyoichi</td>\n",
       "      <td>Maliniak</td>\n",
       "      <td>M</td>\n",
       "      <td>1989-09-12</td>\n",
       "    </tr>\n",
       "  </tbody>\n",
       "</table>\n",
       "</div>"
      ],
      "text/plain": [
       "   emp_no  birth_date first_name last_name gender   hire_date\n",
       "0   10001  1953-09-02     Georgi   Facello      M  1986-06-26\n",
       "1   10002  1964-06-02    Bezalel    Simmel      F  1985-11-21\n",
       "2   10003  1959-12-03      Parto   Bamford      M  1986-08-28\n",
       "3   10004  1954-05-01  Chirstian   Koblick      M  1986-12-01\n",
       "4   10005  1955-01-21    Kyoichi  Maliniak      M  1989-09-12"
      ]
     },
     "execution_count": 20,
     "metadata": {},
     "output_type": "execute_result"
    }
   ],
   "source": [
    "employee_df = pd.read_csv(\"../employees.csv\")\n",
    "\n",
    "employee_df.head()"
   ]
  },
  {
   "cell_type": "code",
   "execution_count": 21,
   "metadata": {},
   "outputs": [
    {
     "name": "stdout",
     "output_type": "stream",
     "text": [
      "1\n"
     ]
    }
   ],
   "source": [
    "#determine the max number identical employee numbers\n",
    "print(max(employee_df[\"emp_no\"].value_counts()))\n",
    "\n",
    "print(\"There are no duplicate employee numbers in the 'employees' table, so 'emp_no' can be used as a primary key\")"
   ]
  },
  {
   "cell_type": "markdown",
   "metadata": {},
   "source": [
    "## \"salaries\" Table Relationships"
   ]
  },
  {
   "cell_type": "code",
   "execution_count": 22,
   "metadata": {},
   "outputs": [
    {
     "data": {
      "text/html": [
       "<div>\n",
       "<style scoped>\n",
       "    .dataframe tbody tr th:only-of-type {\n",
       "        vertical-align: middle;\n",
       "    }\n",
       "\n",
       "    .dataframe tbody tr th {\n",
       "        vertical-align: top;\n",
       "    }\n",
       "\n",
       "    .dataframe thead th {\n",
       "        text-align: right;\n",
       "    }\n",
       "</style>\n",
       "<table border=\"1\" class=\"dataframe\">\n",
       "  <thead>\n",
       "    <tr style=\"text-align: right;\">\n",
       "      <th></th>\n",
       "      <th>emp_no</th>\n",
       "      <th>salary</th>\n",
       "      <th>from_date</th>\n",
       "      <th>to_date</th>\n",
       "    </tr>\n",
       "  </thead>\n",
       "  <tbody>\n",
       "    <tr>\n",
       "      <th>0</th>\n",
       "      <td>10001</td>\n",
       "      <td>60117</td>\n",
       "      <td>1986-06-26</td>\n",
       "      <td>1987-06-26</td>\n",
       "    </tr>\n",
       "    <tr>\n",
       "      <th>1</th>\n",
       "      <td>10002</td>\n",
       "      <td>65828</td>\n",
       "      <td>1996-08-03</td>\n",
       "      <td>1997-08-03</td>\n",
       "    </tr>\n",
       "    <tr>\n",
       "      <th>2</th>\n",
       "      <td>10003</td>\n",
       "      <td>40006</td>\n",
       "      <td>1995-12-03</td>\n",
       "      <td>1996-12-02</td>\n",
       "    </tr>\n",
       "    <tr>\n",
       "      <th>3</th>\n",
       "      <td>10004</td>\n",
       "      <td>40054</td>\n",
       "      <td>1986-12-01</td>\n",
       "      <td>1987-12-01</td>\n",
       "    </tr>\n",
       "    <tr>\n",
       "      <th>4</th>\n",
       "      <td>10005</td>\n",
       "      <td>78228</td>\n",
       "      <td>1989-09-12</td>\n",
       "      <td>1990-09-12</td>\n",
       "    </tr>\n",
       "  </tbody>\n",
       "</table>\n",
       "</div>"
      ],
      "text/plain": [
       "   emp_no  salary   from_date     to_date\n",
       "0   10001   60117  1986-06-26  1987-06-26\n",
       "1   10002   65828  1996-08-03  1997-08-03\n",
       "2   10003   40006  1995-12-03  1996-12-02\n",
       "3   10004   40054  1986-12-01  1987-12-01\n",
       "4   10005   78228  1989-09-12  1990-09-12"
      ]
     },
     "execution_count": 22,
     "metadata": {},
     "output_type": "execute_result"
    }
   ],
   "source": [
    "salaries_df = pd.read_csv(\"../salaries.csv\")\n",
    "\n",
    "salaries_df.head()"
   ]
  },
  {
   "cell_type": "code",
   "execution_count": 24,
   "metadata": {},
   "outputs": [
    {
     "name": "stdout",
     "output_type": "stream",
     "text": [
      "1\n",
      "There are no duplicate employee numbers in the 'salaries' table, so 'emp_no' here has a one-to-one relationship with the 'emp_no' primary key from the 'employees' table\n"
     ]
    }
   ],
   "source": [
    "#determine the max number identical employee numbers - in the emp_no column\n",
    "print(max(salaries_df[\"emp_no\"].value_counts()))\n",
    "\n",
    "print(\"There are no duplicate employee numbers in the 'salaries' table, so 'emp_no' here has a one-to-one relationship with \"+\n",
    "     \"the 'emp_no' primary key from the 'employees' table\")"
   ]
  },
  {
   "cell_type": "markdown",
   "metadata": {},
   "source": [
    "## \"titles\" Table Relationships"
   ]
  },
  {
   "cell_type": "code",
   "execution_count": 5,
   "metadata": {},
   "outputs": [
    {
     "data": {
      "text/html": [
       "<div>\n",
       "<style scoped>\n",
       "    .dataframe tbody tr th:only-of-type {\n",
       "        vertical-align: middle;\n",
       "    }\n",
       "\n",
       "    .dataframe tbody tr th {\n",
       "        vertical-align: top;\n",
       "    }\n",
       "\n",
       "    .dataframe thead th {\n",
       "        text-align: right;\n",
       "    }\n",
       "</style>\n",
       "<table border=\"1\" class=\"dataframe\">\n",
       "  <thead>\n",
       "    <tr style=\"text-align: right;\">\n",
       "      <th></th>\n",
       "      <th>emp_no</th>\n",
       "      <th>title</th>\n",
       "      <th>from_date</th>\n",
       "      <th>to_date</th>\n",
       "    </tr>\n",
       "  </thead>\n",
       "  <tbody>\n",
       "    <tr>\n",
       "      <th>0</th>\n",
       "      <td>10001</td>\n",
       "      <td>Senior Engineer</td>\n",
       "      <td>1986-06-26</td>\n",
       "      <td>9999-01-01</td>\n",
       "    </tr>\n",
       "    <tr>\n",
       "      <th>1</th>\n",
       "      <td>10002</td>\n",
       "      <td>Staff</td>\n",
       "      <td>1996-08-03</td>\n",
       "      <td>9999-01-01</td>\n",
       "    </tr>\n",
       "    <tr>\n",
       "      <th>2</th>\n",
       "      <td>10003</td>\n",
       "      <td>Senior Engineer</td>\n",
       "      <td>1995-12-03</td>\n",
       "      <td>9999-01-01</td>\n",
       "    </tr>\n",
       "    <tr>\n",
       "      <th>3</th>\n",
       "      <td>10004</td>\n",
       "      <td>Engineer</td>\n",
       "      <td>1986-12-01</td>\n",
       "      <td>1995-12-01</td>\n",
       "    </tr>\n",
       "    <tr>\n",
       "      <th>4</th>\n",
       "      <td>10004</td>\n",
       "      <td>Senior Engineer</td>\n",
       "      <td>1995-12-01</td>\n",
       "      <td>9999-01-01</td>\n",
       "    </tr>\n",
       "  </tbody>\n",
       "</table>\n",
       "</div>"
      ],
      "text/plain": [
       "   emp_no            title   from_date     to_date\n",
       "0   10001  Senior Engineer  1986-06-26  9999-01-01\n",
       "1   10002            Staff  1996-08-03  9999-01-01\n",
       "2   10003  Senior Engineer  1995-12-03  9999-01-01\n",
       "3   10004         Engineer  1986-12-01  1995-12-01\n",
       "4   10004  Senior Engineer  1995-12-01  9999-01-01"
      ]
     },
     "execution_count": 5,
     "metadata": {},
     "output_type": "execute_result"
    }
   ],
   "source": [
    "titles_df = pd.read_csv(\"../titles.csv\")\n",
    "\n",
    "titles_df.head()"
   ]
  },
  {
   "cell_type": "code",
   "execution_count": 6,
   "metadata": {},
   "outputs": [
    {
     "name": "stdout",
     "output_type": "stream",
     "text": [
      "3\n",
      "There are duplicate employee numbers in the 'titles' table, so 'emp_no' here has a many-to-one relationship with the 'emp_no' primary key from the 'employees' table\n"
     ]
    }
   ],
   "source": [
    "#determine the max number identical employee numbers - in the emp_no column\n",
    "print(max(titles_df[\"emp_no\"].value_counts()))\n",
    "\n",
    "print(\"There are duplicate employee numbers in the 'titles' table, so 'emp_no' here has a many-to-one relationship with \"+\n",
    "     \"the 'emp_no' primary key from the 'employees' table\")"
   ]
  },
  {
   "cell_type": "code",
   "execution_count": 33,
   "metadata": {},
   "outputs": [
    {
     "name": "stdout",
     "output_type": "stream",
     "text": [
      "103876    3\n",
      "467421    3\n",
      "204120    3\n",
      "105515    3\n",
      "262553    3\n",
      "         ..\n",
      "22212     2\n",
      "249527    2\n",
      "251329    2\n",
      "432918    2\n",
      "74240     2\n",
      "Name: emp_no, Length: 140270, dtype: int64\n",
      "There are some duplicate titles\n",
      "emp_no\n",
      "10004     2\n",
      "10005     2\n",
      "10007     2\n",
      "10009     3\n",
      "10012     2\n",
      "         ..\n",
      "499988    2\n",
      "499992    2\n",
      "499996    2\n",
      "499997    2\n",
      "499998    2\n",
      "Name: title, Length: 140270, dtype: int64\n"
     ]
    }
   ],
   "source": [
    "#remove date columns \n",
    "same_titles = titles_df.iloc[:, [0, 1]]\n",
    "\n",
    "#remove all single entries (value counts of 1)\n",
    "single_values = same_titles[\"emp_no\"].value_counts()\n",
    "single_values = single_values.loc[single_values > 1]\n",
    "print(single_values)\n",
    "\n",
    "#check single values vs. number of unique values from a groupby of employee number\n",
    "#if the df's are equal, then no problem!\n",
    "check_unique_titles = same_titles.loc[same_titles[\"emp_no\"].isin(single_values.index)].groupby(\"emp_no\").nunique()\n",
    "check_unique_titles = check_unique_titles[\"title\"]\n",
    "if(single_values.equals(check_unique_titles)):\n",
    "    print(\"The titles are all different for a given employee number!\")\n",
    "else:\n",
    "    print(\"There are some duplicate titles\")\n",
    "    \n",
    "print(check_unique_titles)"
   ]
  },
  {
   "cell_type": "code",
   "execution_count": 34,
   "metadata": {},
   "outputs": [
    {
     "name": "stdout",
     "output_type": "stream",
     "text": [
      "[110386, 110765]\n"
     ]
    }
   ],
   "source": [
    "#check duplicate titles\n",
    "irregularities = []\n",
    "for num in single_values.index:\n",
    "    if(single_values[num]!=check_unique_titles[num]):\n",
    "        irregularities.append(num)\n",
    "        \n",
    "print(irregularities)"
   ]
  },
  {
   "cell_type": "code",
   "execution_count": 37,
   "metadata": {},
   "outputs": [
    {
     "name": "stdout",
     "output_type": "stream",
     "text": [
      "        emp_no             title   from_date     to_date\n",
      "148152  110386           Manager  1992-08-02  1996-08-30\n",
      "148153  110386  Technique Leader  1988-10-14  1992-08-02\n",
      "148154  110386  Technique Leader  1996-08-30  9999-01-01\n"
     ]
    },
    {
     "data": {
      "text/html": [
       "<div>\n",
       "<style scoped>\n",
       "    .dataframe tbody tr th:only-of-type {\n",
       "        vertical-align: middle;\n",
       "    }\n",
       "\n",
       "    .dataframe tbody tr th {\n",
       "        vertical-align: top;\n",
       "    }\n",
       "\n",
       "    .dataframe thead th {\n",
       "        text-align: right;\n",
       "    }\n",
       "</style>\n",
       "<table border=\"1\" class=\"dataframe\">\n",
       "  <thead>\n",
       "    <tr style=\"text-align: right;\">\n",
       "      <th></th>\n",
       "      <th>emp_no</th>\n",
       "      <th>title</th>\n",
       "      <th>from_date</th>\n",
       "      <th>to_date</th>\n",
       "    </tr>\n",
       "  </thead>\n",
       "  <tbody>\n",
       "    <tr>\n",
       "      <th>148163</th>\n",
       "      <td>110765</td>\n",
       "      <td>Manager</td>\n",
       "      <td>1989-05-06</td>\n",
       "      <td>1991-09-12</td>\n",
       "    </tr>\n",
       "    <tr>\n",
       "      <th>148164</th>\n",
       "      <td>110765</td>\n",
       "      <td>Technique Leader</td>\n",
       "      <td>1989-01-07</td>\n",
       "      <td>1989-05-06</td>\n",
       "    </tr>\n",
       "    <tr>\n",
       "      <th>148165</th>\n",
       "      <td>110765</td>\n",
       "      <td>Technique Leader</td>\n",
       "      <td>1991-09-12</td>\n",
       "      <td>9999-01-01</td>\n",
       "    </tr>\n",
       "  </tbody>\n",
       "</table>\n",
       "</div>"
      ],
      "text/plain": [
       "        emp_no             title   from_date     to_date\n",
       "148163  110765           Manager  1989-05-06  1991-09-12\n",
       "148164  110765  Technique Leader  1989-01-07  1989-05-06\n",
       "148165  110765  Technique Leader  1991-09-12  9999-01-01"
      ]
     },
     "execution_count": 37,
     "metadata": {},
     "output_type": "execute_result"
    }
   ],
   "source": [
    "#check the two irregularities\n",
    "print(titles_df.loc[titles_df[\"emp_no\"] == 110386])\n",
    "titles_df.loc[titles_df[\"emp_no\"] == 110765]"
   ]
  },
  {
   "cell_type": "code",
   "execution_count": null,
   "metadata": {},
   "outputs": [],
   "source": [
    "#looks like we must add the \"from_date\" to the primary key in order to ensure the validity of the non-duplicate condition\n",
    "#A title granted to the same employee twice on the same day is a duplicate entry, because you would just find the latter of the \n",
    "#\"to_date\" column values, and use that value to reduce the two columns to one column with all the data"
   ]
  }
 ],
 "metadata": {
  "kernelspec": {
   "display_name": "Python 3",
   "language": "python",
   "name": "python3"
  },
  "language_info": {
   "codemirror_mode": {
    "name": "ipython",
    "version": 3
   },
   "file_extension": ".py",
   "mimetype": "text/x-python",
   "name": "python",
   "nbconvert_exporter": "python",
   "pygments_lexer": "ipython3",
   "version": "3.7.6"
  }
 },
 "nbformat": 4,
 "nbformat_minor": 4
}
